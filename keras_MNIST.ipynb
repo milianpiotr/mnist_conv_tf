{
 "cells": [
  {
   "cell_type": "code",
   "execution_count": 1,
   "metadata": {
    "_cell_guid": "f4bb0d5a-8e8f-ecff-5626-7c4eed81fa01"
   },
   "outputs": [
    {
     "name": "stderr",
     "output_type": "stream",
     "text": [
      "Using TensorFlow backend.\n"
     ]
    }
   ],
   "source": [
    "import numpy as np\n",
    "import pandas as pd\n",
    "\n",
    "from keras.models import Sequential\n",
    "from keras.layers import Activation, Dense, Dropout, Flatten\n",
    "from keras.layers import Convolution2D, MaxPooling2D\n",
    "from keras.utils import np_utils\n",
    "from keras import backend as K"
   ]
  },
  {
   "cell_type": "code",
   "execution_count": 2,
   "metadata": {
    "_cell_guid": "8d4c362b-057f-1316-56f0-5a792b66ea38"
   },
   "outputs": [],
   "source": [
    "# load_data\n",
    "train_data = pd.read_csv('../input/train.csv')\n",
    "\n",
    "labels = train_data.label.values.astype('int32')\n",
    "train_data = train_data.drop('label', axis=1).as_matrix().astype('float32')\n",
    "\n",
    "test_data = pd.read_csv('../input/test.csv').as_matrix().astype('float32')\n",
    "\n",
    "# make label vectors\n",
    "y_train = np_utils.to_categorical(labels) "
   ]
  },
  {
   "cell_type": "code",
   "execution_count": 3,
   "metadata": {
    "_cell_guid": "0c9f7c1b-f86a-cb4e-03d6-d152e2972b86"
   },
   "outputs": [],
   "source": [
    "# normalize 0-1, max is 255, so...\n",
    "X_train = train_data / np.max(train_data)\n",
    "X_test = test_data / np.max(train_data)\n",
    "\n",
    "# maybe norm by mean too?\n",
    "# X_train = train_data / np.mean(X_train)\n",
    "# X_test = test_data / np.mean(X_train)"
   ]
  },
  {
   "cell_type": "code",
   "execution_count": 4,
   "metadata": {
    "_cell_guid": "66c57e80-a421-630d-df80-7157dfff9bd9"
   },
   "outputs": [],
   "source": [
    "img_size = (28, 28)\n",
    "\n",
    "X_train = X_train.reshape(X_train.shape[0], img_size[0], img_size[1], 1)\n",
    "X_test = X_test.reshape(X_test.shape[0], img_size[0], img_size[1], 1)\n",
    "image_shape = (img_size[0], img_size[1], 1)"
   ]
  },
  {
   "cell_type": "code",
   "execution_count": 5,
   "metadata": {
    "_cell_guid": "94ed2b6a-a877-e11f-9adb-c810a8901cc2"
   },
   "outputs": [],
   "source": [
    "\n",
    "# number of convolutional filters to use\n",
    "filters = 8\n",
    "pool = (4, 4)\n",
    "kernel = (3, 3)\n",
    "dense = 128\n",
    "dp = 0.2\n",
    "\n",
    "model = Sequential()\n",
    "model.add(Convolution2D(filters, \n",
    "                        kernel[0], \n",
    "                        kernel[1],\n",
    "                        border_mode='same',\n",
    "                        input_shape=image_shape))\n",
    "model.add(Activation('relu'))\n",
    "model.add(Convolution2D(filters, kernel[0], kernel[1]))\n",
    "model.add(Activation('relu'))\n",
    "model.add(Convolution2D(filters, kernel[0], kernel[1]))\n",
    "model.add(Activation('relu'))\n",
    "model.add(Convolution2D(filters, kernel[0], kernel[1]))\n",
    "model.add(Activation('relu'))\n",
    "model.add(MaxPooling2D(pool_size=pool))\n",
    "model.add(Dropout(dp))\n",
    "model.add(Flatten())\n",
    "model.add(Dense(dense))\n",
    "model.add(Activation('relu'))\n",
    "model.add(Dropout(dp))\n",
    "model.add(Dense(y_train.shape[1]))\n",
    "model.add(Activation('softmax'))\n",
    "\n",
    "model.compile(loss='categorical_crossentropy',\n",
    "              optimizer='adadelta',\n",
    "              metrics=['accuracy'])"
   ]
  },
  {
   "cell_type": "code",
   "execution_count": 6,
   "metadata": {
    "_cell_guid": "71404249-0876-23a0-50cc-ebf327e7f698"
   },
   "outputs": [
    {
     "name": "stdout",
     "output_type": "stream",
     "text": [
      "Moneky see...\n",
      "Train on 37800 samples, validate on 4200 samples\n",
      "Epoch 1/10\n",
      "37800/37800 [==============================] - 71s - loss: 0.4838 - acc: 0.8422 - val_loss: 0.1389 - val_acc: 0.9571\n",
      "Epoch 2/10\n",
      "37800/37800 [==============================] - 70s - loss: 0.2110 - acc: 0.9348 - val_loss: 0.1011 - val_acc: 0.9664\n",
      "Epoch 3/10\n",
      "37800/37800 [==============================] - 74s - loss: 0.1720 - acc: 0.9466 - val_loss: 0.0955 - val_acc: 0.9695\n",
      "Epoch 4/10\n",
      "37800/37800 [==============================] - 73s - loss: 0.1451 - acc: 0.9552 - val_loss: 0.0716 - val_acc: 0.9771\n",
      "Epoch 5/10\n",
      "37800/37800 [==============================] - 70s - loss: 0.1307 - acc: 0.9594 - val_loss: 0.0666 - val_acc: 0.9783\n",
      "Epoch 6/10\n",
      "18144/37800 [=============>................] - ETA: 34s - loss: 0.1214 - acc: 0.9607"
     ]
    }
   ],
   "source": [
    "print(\"Moneky see...\")\n",
    "model.fit(X_train, \n",
    "          y_train, \n",
    "          nb_epoch=10, \n",
    "          batch_size=32, \n",
    "          validation_split=0.1, \n",
    "          shuffle=True,\n",
    "          verbose=1)"
   ]
  },
  {
   "cell_type": "code",
   "execution_count": 7,
   "metadata": {
    "_cell_guid": "529c5c78-f0d3-e322-c7d8-4dedbbb05ab8"
   },
   "outputs": [
    {
     "name": "stdout",
     "output_type": "stream",
     "text": [
      "Monkey test...\n",
      "0.986380952381 -0.00673809523805\n"
     ]
    }
   ],
   "source": [
    "print(\"Monkey test...\")\n",
    "y_hat = model.predict_classes(X_train, verbose=0)\n",
    "acc = sum(y_hat==labels)/len(labels)\n",
    "best_so_far = 0.993119047619\n",
    "print(acc, acc - best_so_far)"
   ]
  },
  {
   "cell_type": "code",
   "execution_count": 8,
   "metadata": {
    "_cell_guid": "aa1dada1-5e11-31f1-a3d3-fd8295df852b"
   },
   "outputs": [
    {
     "name": "stdout",
     "output_type": "stream",
     "text": [
      "Monkey do...\n"
     ]
    }
   ],
   "source": [
    "print(\"Monkey do...\")\n",
    "predictions = model.predict_classes(X_test, verbose=0)"
   ]
  },
  {
   "cell_type": "code",
   "execution_count": 9,
   "metadata": {
    "_cell_guid": "84954964-761e-67dd-d93f-ce29c8cdb392"
   },
   "outputs": [
    {
     "data": {
      "text/html": [
       "<div>\n",
       "<table border=\"1\" class=\"dataframe\">\n",
       "  <thead>\n",
       "    <tr style=\"text-align: right;\">\n",
       "      <th></th>\n",
       "      <th>Label</th>\n",
       "    </tr>\n",
       "  </thead>\n",
       "  <tbody>\n",
       "    <tr>\n",
       "      <th>1</th>\n",
       "      <td>2</td>\n",
       "    </tr>\n",
       "    <tr>\n",
       "      <th>2</th>\n",
       "      <td>0</td>\n",
       "    </tr>\n",
       "    <tr>\n",
       "      <th>3</th>\n",
       "      <td>9</td>\n",
       "    </tr>\n",
       "    <tr>\n",
       "      <th>4</th>\n",
       "      <td>9</td>\n",
       "    </tr>\n",
       "    <tr>\n",
       "      <th>5</th>\n",
       "      <td>3</td>\n",
       "    </tr>\n",
       "  </tbody>\n",
       "</table>\n",
       "</div>"
      ],
      "text/plain": [
       "   Label\n",
       "1      2\n",
       "2      0\n",
       "3      9\n",
       "4      9\n",
       "5      3"
      ]
     },
     "execution_count": 9,
     "metadata": {},
     "output_type": "execute_result"
    }
   ],
   "source": [
    "save_me = pd.DataFrame({\"Label\": predictions})\n",
    "save_me.index = save_me.index + 1\n",
    "\n",
    "save_me.to_csv(\"keras_mnist_v0.1.csv\",index_label='ImageId')\n",
    "\n",
    "save_me.head()"
   ]
  },
  {
   "cell_type": "code",
   "execution_count": 10,
   "metadata": {
    "_cell_guid": "09a7d4fa-046b-e6ae-96db-7a8cc6aa8dce"
   },
   "outputs": [],
   "source": []
  }
 ],
 "metadata": {
  "_change_revision": 2140,
  "_is_fork": false,
  "kernelspec": {
   "display_name": "Python 3",
   "language": "python",
   "name": "python3"
  },
  "language_info": {
   "codemirror_mode": {
    "name": "ipython",
    "version": 3
   },
   "file_extension": ".py",
   "mimetype": "text/x-python",
   "name": "python",
   "nbconvert_exporter": "python",
   "pygments_lexer": "ipython3",
   "version": "3.5.2"
  }
 },
 "nbformat": 4,
 "nbformat_minor": 0
}
